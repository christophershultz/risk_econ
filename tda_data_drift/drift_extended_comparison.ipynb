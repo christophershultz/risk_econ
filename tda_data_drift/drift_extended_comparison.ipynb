{
 "cells": [
  {
   "cell_type": "code",
   "execution_count": 6,
   "metadata": {},
   "outputs": [
    {
     "name": "stdout",
     "output_type": "stream",
     "text": [
      "dict_keys(['chg_var', 'cov_shift', 'mix_shift'])\n",
      "dict_keys(['0.0001-30', '0.001-30', '0.01-30', '0.1-30', '0.6-30', '1-30', '5-30', '10-30', '20-30', '30-30'])\n"
     ]
    },
    {
     "data": {
      "text/html": [
       "<div>\n",
       "<style scoped>\n",
       "    .dataframe tbody tr th:only-of-type {\n",
       "        vertical-align: middle;\n",
       "    }\n",
       "\n",
       "    .dataframe tbody tr th {\n",
       "        vertical-align: top;\n",
       "    }\n",
       "\n",
       "    .dataframe thead th {\n",
       "        text-align: right;\n",
       "    }\n",
       "</style>\n",
       "<table border=\"1\" class=\"dataframe\">\n",
       "  <thead>\n",
       "    <tr style=\"text-align: right;\">\n",
       "      <th></th>\n",
       "      <th>x1</th>\n",
       "      <th>x2</th>\n",
       "      <th>x3</th>\n",
       "      <th>y</th>\n",
       "      <th>time</th>\n",
       "      <th>pe</th>\n",
       "    </tr>\n",
       "  </thead>\n",
       "  <tbody>\n",
       "    <tr>\n",
       "      <th>0</th>\n",
       "      <td>0.496714</td>\n",
       "      <td>1.399355</td>\n",
       "      <td>-0.675178</td>\n",
       "      <td>1.220891</td>\n",
       "      <td>0</td>\n",
       "      <td>0.0</td>\n",
       "    </tr>\n",
       "    <tr>\n",
       "      <th>1</th>\n",
       "      <td>-0.138264</td>\n",
       "      <td>0.924634</td>\n",
       "      <td>-0.144519</td>\n",
       "      <td>0.641851</td>\n",
       "      <td>1</td>\n",
       "      <td>0.0</td>\n",
       "    </tr>\n",
       "    <tr>\n",
       "      <th>2</th>\n",
       "      <td>0.647689</td>\n",
       "      <td>0.059630</td>\n",
       "      <td>-0.792420</td>\n",
       "      <td>-0.085101</td>\n",
       "      <td>2</td>\n",
       "      <td>0.0</td>\n",
       "    </tr>\n",
       "    <tr>\n",
       "      <th>3</th>\n",
       "      <td>1.523030</td>\n",
       "      <td>-0.646937</td>\n",
       "      <td>-0.307962</td>\n",
       "      <td>0.568132</td>\n",
       "      <td>3</td>\n",
       "      <td>0.0</td>\n",
       "    </tr>\n",
       "    <tr>\n",
       "      <th>4</th>\n",
       "      <td>-0.234153</td>\n",
       "      <td>0.698223</td>\n",
       "      <td>-1.893615</td>\n",
       "      <td>-1.429545</td>\n",
       "      <td>4</td>\n",
       "      <td>0.0</td>\n",
       "    </tr>\n",
       "  </tbody>\n",
       "</table>\n",
       "</div>"
      ],
      "text/plain": [
       "         x1        x2        x3         y  time   pe\n",
       "0  0.496714  1.399355 -0.675178  1.220891     0  0.0\n",
       "1 -0.138264  0.924634 -0.144519  0.641851     1  0.0\n",
       "2  0.647689  0.059630 -0.792420 -0.085101     2  0.0\n",
       "3  1.523030 -0.646937 -0.307962  0.568132     3  0.0\n",
       "4 -0.234153  0.698223 -1.893615 -1.429545     4  0.0"
      ]
     },
     "execution_count": 6,
     "metadata": {},
     "output_type": "execute_result"
    }
   ],
   "source": [
    "import pandas as pd\n",
    "import numpy as np\n",
    "import os, pdb, sys, pickle\n",
    "import matplotlib.pyplot as plt\n",
    "import scipy.stats as stats\n",
    "\n",
    "with open('results_2.pkl', 'rb') as f: \n",
    "    dct = pickle.load(f)\n",
    "print(dct.keys())\n",
    "print(dct['chg_var'].keys())\n",
    "dct['chg_var']['0.001-30'].head()"
   ]
  },
  {
   "cell_type": "code",
   "execution_count": 16,
   "metadata": {},
   "outputs": [
    {
     "name": "stdout",
     "output_type": "stream",
     "text": [
      "> \u001b[1;32mc:\\users\\cshul\\appdata\\local\\temp\\ipykernel_11512\\2987445153.py\u001b[0m(25)\u001b[0;36m<module>\u001b[1;34m()\u001b[0m\n",
      "\n",
      "   shift_0.0001         y\n",
      "0      0.496714  1.220891\n",
      "1     -0.138264  0.641851\n",
      "2      0.647689 -0.085101\n",
      "3      1.523030  0.568132\n",
      "4     -0.234153 -1.429545\n",
      "*** ValueError: object too deep for desired array\n"
     ]
    }
   ],
   "source": [
    "for typeOfShift in dct.keys(): \n",
    "    res = dct[typeOfShift]\n",
    "    df = None\n",
    "    for k in res.keys(): \n",
    "        if df is None: \n",
    "            df = res[k][['time', 'y', 'x1']]\n",
    "            df.columns = ['time', 'y', 'shift_' + str(k).split('-')[0]]\n",
    "        else: \n",
    "            tmp = res[k][['time', 'x1']]\n",
    "            tmp.columns = ['time', 'shift_' + str(k).split('-')[0]]\n",
    "            df = pd.merge(df, tmp, how = 'left', on = 'time')\n",
    "    \n",
    "    for col in [i for i in df.columns if 'shift' in i]: \n",
    "        # Apply Traditional Drift Metrics for Thresholding\n",
    "        # KS Test, Chi-Squared Test, PSI\n",
    "        ks, psi = [], []\n",
    "        b1, b2 = 0, 400\n",
    "        a1, a2 = 401, 501\n",
    "        while a2 < len(df): \n",
    "            ds1 = df[[col, 'y']].iloc[b1:b2+1]\n",
    "            ds2 = df[[col, 'y']].iloc[a1:a2+1]\n",
    "\n",
    "            # Compute KS\n",
    "            pdb.set_trace()\n",
    "            ks_pval = stats.ks_2samp(ds1, ds2).pvalue\n",
    "            ks.append(ks_pval)\n",
    "\n",
    "            # Compute PSI\n",
    "            hist1, _ = np.histogram(ds1, bins=10)\n",
    "            hist2, _ = np.histogram(ds2, bins=10)\n",
    "            hist1 = hist1/sum(hist1)\n",
    "            hist2 = hist2/sum(hist2)\n",
    "            psi_val = np.sum((hist1-hist2) * np.log(hist1/hist2))\n",
    "            psi.append(psi_val)\n",
    "\n",
    "            # Iterate\n",
    "            b1 += 10\n",
    "            b2 += 10\n",
    "            a1 += 10\n",
    "            a2 += 10\n",
    "\n",
    "        result = pd.DataFrame({'ks': ks, 'psi': psi})\n",
    "        pdb.set_trace()"
   ]
  },
  {
   "cell_type": "code",
   "execution_count": null,
   "metadata": {},
   "outputs": [],
   "source": []
  }
 ],
 "metadata": {
  "kernelspec": {
   "display_name": "Python 3",
   "language": "python",
   "name": "python3"
  },
  "language_info": {
   "codemirror_mode": {
    "name": "ipython",
    "version": 3
   },
   "file_extension": ".py",
   "mimetype": "text/x-python",
   "name": "python",
   "nbconvert_exporter": "python",
   "pygments_lexer": "ipython3",
   "version": "3.11.1"
  }
 },
 "nbformat": 4,
 "nbformat_minor": 2
}
